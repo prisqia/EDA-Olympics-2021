{
  "nbformat": 4,
  "nbformat_minor": 0,
  "metadata": {
    "colab": {
      "name": "EDA Olympics 2021.ipynb",
      "provenance": [],
      "collapsed_sections": [],
      "authorship_tag": "ABX9TyOoozJtqXb3J/dQA8CiK7s0",
      "include_colab_link": true
    },
    "kernelspec": {
      "name": "python3",
      "display_name": "Python 3"
    },
    "language_info": {
      "name": "python"
    }
  },
  "cells": [
    {
      "cell_type": "markdown",
      "metadata": {
        "id": "view-in-github",
        "colab_type": "text"
      },
      "source": [
        "<a href=\"https://colab.research.google.com/github/prisqia/EDA-Olympics-2021/blob/main/EDA_Olympics_2021.ipynb\" target=\"_parent\"><img src=\"https://colab.research.google.com/assets/colab-badge.svg\" alt=\"Open In Colab\"/></a>"
      ]
    },
    {
      "cell_type": "markdown",
      "metadata": {
        "id": "w3BF2Ec40zRG"
      },
      "source": [
        "# Connect To Kaggle"
      ]
    },
    {
      "cell_type": "code",
      "metadata": {
        "colab": {
          "base_uri": "https://localhost:8080/"
        },
        "id": "RO8Zpk2YvMBF",
        "outputId": "ca20c2c4-05c8-4fce-ffba-2cb578631cf6"
      },
      "source": [
        "! pip install kaggle"
      ],
      "execution_count": 11,
      "outputs": [
        {
          "output_type": "stream",
          "name": "stdout",
          "text": [
            "Requirement already satisfied: kaggle in /usr/local/lib/python3.7/dist-packages (1.5.12)\n",
            "Requirement already satisfied: tqdm in /usr/local/lib/python3.7/dist-packages (from kaggle) (4.62.3)\n",
            "Requirement already satisfied: certifi in /usr/local/lib/python3.7/dist-packages (from kaggle) (2021.5.30)\n",
            "Requirement already satisfied: requests in /usr/local/lib/python3.7/dist-packages (from kaggle) (2.23.0)\n",
            "Requirement already satisfied: python-slugify in /usr/local/lib/python3.7/dist-packages (from kaggle) (5.0.2)\n",
            "Requirement already satisfied: six>=1.10 in /usr/local/lib/python3.7/dist-packages (from kaggle) (1.15.0)\n",
            "Requirement already satisfied: urllib3 in /usr/local/lib/python3.7/dist-packages (from kaggle) (1.24.3)\n",
            "Requirement already satisfied: python-dateutil in /usr/local/lib/python3.7/dist-packages (from kaggle) (2.8.2)\n",
            "Requirement already satisfied: text-unidecode>=1.3 in /usr/local/lib/python3.7/dist-packages (from python-slugify->kaggle) (1.3)\n",
            "Requirement already satisfied: idna<3,>=2.5 in /usr/local/lib/python3.7/dist-packages (from requests->kaggle) (2.10)\n",
            "Requirement already satisfied: chardet<4,>=3.0.2 in /usr/local/lib/python3.7/dist-packages (from requests->kaggle) (3.0.4)\n"
          ]
        }
      ]
    },
    {
      "cell_type": "code",
      "metadata": {
        "id": "rZdH-lsRvONm"
      },
      "source": [
        "! mkdir ~/.kaggle"
      ],
      "execution_count": null,
      "outputs": []
    },
    {
      "cell_type": "code",
      "metadata": {
        "id": "TWVbh8L2vRPT"
      },
      "source": [
        "! cp kaggle.json ~/.kaggle/"
      ],
      "execution_count": 13,
      "outputs": []
    },
    {
      "cell_type": "code",
      "metadata": {
        "id": "RB9jG-20vVf1"
      },
      "source": [
        "! chmod 600 ~/.kaggle/kaggle.json"
      ],
      "execution_count": 14,
      "outputs": []
    },
    {
      "cell_type": "markdown",
      "metadata": {
        "id": "Ndvd69lu0-t_"
      },
      "source": [
        "# Download Kaggle Dataset\n",
        "\n",
        "\n",
        "In this EDA we used 2021 Olympics in Tokyo Dataset"
      ]
    },
    {
      "cell_type": "code",
      "metadata": {
        "colab": {
          "base_uri": "https://localhost:8080/"
        },
        "id": "_YWmK8DSviDT",
        "outputId": "2edefc78-0800-42d3-b740-859308226d90"
      },
      "source": [
        "! kaggle datasets download arjunprasadsarkhel/2021-olympics-in-tokyo"
      ],
      "execution_count": 15,
      "outputs": [
        {
          "output_type": "stream",
          "name": "stdout",
          "text": [
            "Downloading 2021-olympics-in-tokyo.zip to /content\n",
            "\r  0% 0.00/348k [00:00<?, ?B/s]\n",
            "\r100% 348k/348k [00:00<00:00, 46.9MB/s]\n"
          ]
        }
      ]
    },
    {
      "cell_type": "code",
      "metadata": {
        "id": "YQYKC4QSw7Zl",
        "colab": {
          "base_uri": "https://localhost:8080/"
        },
        "outputId": "ca8e752b-3927-40ee-f728-8519a9e60ac7"
      },
      "source": [
        "! mkdir Tokyo_Olympics"
      ],
      "execution_count": 16,
      "outputs": [
        {
          "output_type": "stream",
          "name": "stdout",
          "text": [
            "mkdir: cannot create directory ‘Tokyo_Olympics’: File exists\n"
          ]
        }
      ]
    },
    {
      "cell_type": "code",
      "metadata": {
        "colab": {
          "base_uri": "https://localhost:8080/"
        },
        "id": "5IqATFN4xSyr",
        "outputId": "0437c41e-775c-4e5d-e7a8-17201dcf3a28"
      },
      "source": [
        "! unzip 2021-olympics-in-tokyo.zip -d Tokyo_Olympics"
      ],
      "execution_count": 17,
      "outputs": [
        {
          "output_type": "stream",
          "name": "stdout",
          "text": [
            "Archive:  2021-olympics-in-tokyo.zip\n",
            "  inflating: Tokyo_Olympics/Athletes.xlsx  \n",
            "  inflating: Tokyo_Olympics/Coaches.xlsx  \n",
            "  inflating: Tokyo_Olympics/EntriesGender.xlsx  \n",
            "  inflating: Tokyo_Olympics/Medals.xlsx  \n",
            "  inflating: Tokyo_Olympics/Teams.xlsx  \n"
          ]
        }
      ]
    },
    {
      "cell_type": "markdown",
      "metadata": {
        "id": "6ZxkSxZA2WLR"
      },
      "source": [
        "#Import Library"
      ]
    },
    {
      "cell_type": "code",
      "metadata": {
        "id": "AMPESF40wTvv"
      },
      "source": [
        "import pandas as pd\n",
        "import numpy as np\n",
        "from scipy.stats import trim_mean"
      ],
      "execution_count": 18,
      "outputs": []
    },
    {
      "cell_type": "markdown",
      "metadata": {
        "id": "TE5YElX_2a0J"
      },
      "source": [
        "# Create a Path from Data Folder"
      ]
    },
    {
      "cell_type": "code",
      "metadata": {
        "id": "zprn49jOxenL"
      },
      "source": [
        "path_to_data = '/content/Tokyo_Olympics/'"
      ],
      "execution_count": 19,
      "outputs": []
    },
    {
      "cell_type": "code",
      "metadata": {
        "id": "7ZpZ-4zwzArS"
      },
      "source": [
        "df_athletes = pd.read_excel(path_to_data + 'Athletes.xlsx')\n",
        "df_gender = pd.read_excel(path_to_data + 'EntriesGender.xlsx')\n",
        "df_medals = pd.read_excel(path_to_data + 'Medals.xlsx')\n",
        "df_teams = pd.read_excel(path_to_data + 'Teams.xlsx')"
      ],
      "execution_count": 20,
      "outputs": []
    },
    {
      "cell_type": "markdown",
      "metadata": {
        "id": "hqVXEN0w2mhw"
      },
      "source": [
        "#EDA Medals"
      ]
    },
    {
      "cell_type": "code",
      "metadata": {
        "id": "W24DWHYi0J_9"
      },
      "source": [
        "df_medals"
      ],
      "execution_count": null,
      "outputs": []
    },
    {
      "cell_type": "code",
      "metadata": {
        "colab": {
          "base_uri": "https://localhost:8080/"
        },
        "id": "fojzU5td5raY",
        "outputId": "1ca27ece-5ea0-47ae-f402-244d93718759"
      },
      "source": [
        "df_medals.isna().sum()"
      ],
      "execution_count": 23,
      "outputs": [
        {
          "output_type": "execute_result",
          "data": {
            "text/plain": [
              "Rank             0\n",
              "Team/NOC         0\n",
              "Gold             0\n",
              "Silver           0\n",
              "Bronze           0\n",
              "Total            0\n",
              "Rank by Total    0\n",
              "dtype: int64"
            ]
          },
          "metadata": {},
          "execution_count": 23
        }
      ]
    },
    {
      "cell_type": "code",
      "metadata": {
        "colab": {
          "base_uri": "https://localhost:8080/",
          "height": 294
        },
        "id": "mpUQOrEKebip",
        "outputId": "db2e4a26-92f1-4c84-b32c-fb746d1e452a"
      },
      "source": [
        "df_medals.describe()"
      ],
      "execution_count": 22,
      "outputs": [
        {
          "output_type": "execute_result",
          "data": {
            "text/html": [
              "<div>\n",
              "<style scoped>\n",
              "    .dataframe tbody tr th:only-of-type {\n",
              "        vertical-align: middle;\n",
              "    }\n",
              "\n",
              "    .dataframe tbody tr th {\n",
              "        vertical-align: top;\n",
              "    }\n",
              "\n",
              "    .dataframe thead th {\n",
              "        text-align: right;\n",
              "    }\n",
              "</style>\n",
              "<table border=\"1\" class=\"dataframe\">\n",
              "  <thead>\n",
              "    <tr style=\"text-align: right;\">\n",
              "      <th></th>\n",
              "      <th>Rank</th>\n",
              "      <th>Gold</th>\n",
              "      <th>Silver</th>\n",
              "      <th>Bronze</th>\n",
              "      <th>Total</th>\n",
              "      <th>Rank by Total</th>\n",
              "    </tr>\n",
              "  </thead>\n",
              "  <tbody>\n",
              "    <tr>\n",
              "      <th>count</th>\n",
              "      <td>93.000000</td>\n",
              "      <td>93.000000</td>\n",
              "      <td>93.000000</td>\n",
              "      <td>93.000000</td>\n",
              "      <td>93.000000</td>\n",
              "      <td>93.000000</td>\n",
              "    </tr>\n",
              "    <tr>\n",
              "      <th>mean</th>\n",
              "      <td>46.333333</td>\n",
              "      <td>3.655914</td>\n",
              "      <td>3.634409</td>\n",
              "      <td>4.322581</td>\n",
              "      <td>11.612903</td>\n",
              "      <td>43.494624</td>\n",
              "    </tr>\n",
              "    <tr>\n",
              "      <th>std</th>\n",
              "      <td>26.219116</td>\n",
              "      <td>7.022471</td>\n",
              "      <td>6.626339</td>\n",
              "      <td>6.210372</td>\n",
              "      <td>19.091332</td>\n",
              "      <td>24.171769</td>\n",
              "    </tr>\n",
              "    <tr>\n",
              "      <th>min</th>\n",
              "      <td>1.000000</td>\n",
              "      <td>0.000000</td>\n",
              "      <td>0.000000</td>\n",
              "      <td>0.000000</td>\n",
              "      <td>1.000000</td>\n",
              "      <td>1.000000</td>\n",
              "    </tr>\n",
              "    <tr>\n",
              "      <th>25%</th>\n",
              "      <td>24.000000</td>\n",
              "      <td>0.000000</td>\n",
              "      <td>0.000000</td>\n",
              "      <td>1.000000</td>\n",
              "      <td>2.000000</td>\n",
              "      <td>23.000000</td>\n",
              "    </tr>\n",
              "    <tr>\n",
              "      <th>50%</th>\n",
              "      <td>46.000000</td>\n",
              "      <td>1.000000</td>\n",
              "      <td>1.000000</td>\n",
              "      <td>2.000000</td>\n",
              "      <td>4.000000</td>\n",
              "      <td>47.000000</td>\n",
              "    </tr>\n",
              "    <tr>\n",
              "      <th>75%</th>\n",
              "      <td>70.000000</td>\n",
              "      <td>3.000000</td>\n",
              "      <td>4.000000</td>\n",
              "      <td>5.000000</td>\n",
              "      <td>11.000000</td>\n",
              "      <td>66.000000</td>\n",
              "    </tr>\n",
              "    <tr>\n",
              "      <th>max</th>\n",
              "      <td>86.000000</td>\n",
              "      <td>39.000000</td>\n",
              "      <td>41.000000</td>\n",
              "      <td>33.000000</td>\n",
              "      <td>113.000000</td>\n",
              "      <td>77.000000</td>\n",
              "    </tr>\n",
              "  </tbody>\n",
              "</table>\n",
              "</div>"
            ],
            "text/plain": [
              "            Rank       Gold     Silver     Bronze       Total  Rank by Total\n",
              "count  93.000000  93.000000  93.000000  93.000000   93.000000      93.000000\n",
              "mean   46.333333   3.655914   3.634409   4.322581   11.612903      43.494624\n",
              "std    26.219116   7.022471   6.626339   6.210372   19.091332      24.171769\n",
              "min     1.000000   0.000000   0.000000   0.000000    1.000000       1.000000\n",
              "25%    24.000000   0.000000   0.000000   1.000000    2.000000      23.000000\n",
              "50%    46.000000   1.000000   1.000000   2.000000    4.000000      47.000000\n",
              "75%    70.000000   3.000000   4.000000   5.000000   11.000000      66.000000\n",
              "max    86.000000  39.000000  41.000000  33.000000  113.000000      77.000000"
            ]
          },
          "metadata": {},
          "execution_count": 22
        }
      ]
    },
    {
      "cell_type": "code",
      "metadata": {
        "colab": {
          "base_uri": "https://localhost:8080/"
        },
        "id": "kiiafj1H0xD6",
        "outputId": "ff527953-ec6e-4388-c2a6-55b074d28087"
      },
      "source": [
        "df_medals['Total'].mean()"
      ],
      "execution_count": 24,
      "outputs": [
        {
          "output_type": "execute_result",
          "data": {
            "text/plain": [
              "11.612903225806452"
            ]
          },
          "metadata": {},
          "execution_count": 24
        }
      ]
    },
    {
      "cell_type": "code",
      "metadata": {
        "id": "xtORucOQ2ov0"
      },
      "source": [
        "# Weighted Mean\n",
        "#np.average(df_medals[\"Total\"], weights=df_medals[\"Gold\"])"
      ],
      "execution_count": null,
      "outputs": []
    },
    {
      "cell_type": "code",
      "metadata": {
        "id": "BodZMgmT27-i"
      },
      "source": [
        "# Trimmed Mean\n",
        "# by taking the trim mean we could make it less sensitive\n",
        "#trim_mean(df_medals[\"Total\"], 0.1)"
      ],
      "execution_count": null,
      "outputs": []
    },
    {
      "cell_type": "code",
      "metadata": {
        "colab": {
          "base_uri": "https://localhost:8080/"
        },
        "id": "WNdoeQgm2-q5",
        "outputId": "453c67f0-74a5-4039-a90e-65b108065fa7"
      },
      "source": [
        "from statistics import variance, stdev\n",
        "\n",
        "variance(df_medals[\"Gold\"])"
      ],
      "execution_count": 25,
      "outputs": [
        {
          "output_type": "execute_result",
          "data": {
            "text/plain": [
              "49.315100514259"
            ]
          },
          "metadata": {},
          "execution_count": 25
        }
      ]
    },
    {
      "cell_type": "code",
      "metadata": {
        "colab": {
          "base_uri": "https://localhost:8080/"
        },
        "id": "9YNp6E7m3NB-",
        "outputId": "80e89775-a8a1-4d27-a6e0-9cf3a8e6856f"
      },
      "source": [
        "stdev(df_medals[\"Gold\"])"
      ],
      "execution_count": 26,
      "outputs": [
        {
          "output_type": "execute_result",
          "data": {
            "text/plain": [
              "7.022471111671376"
            ]
          },
          "metadata": {},
          "execution_count": 26
        }
      ]
    },
    {
      "cell_type": "code",
      "metadata": {
        "colab": {
          "base_uri": "https://localhost:8080/"
        },
        "id": "vhhz3q7g5DbH",
        "outputId": "37d75f51-9f13-4f69-b809-03dfe4183d02"
      },
      "source": [
        "q3 = np.percentile(df_medals[\"Total\"], 75)\n",
        "q3"
      ],
      "execution_count": 27,
      "outputs": [
        {
          "output_type": "execute_result",
          "data": {
            "text/plain": [
              "11.0"
            ]
          },
          "metadata": {},
          "execution_count": 27
        }
      ]
    },
    {
      "cell_type": "code",
      "metadata": {
        "colab": {
          "base_uri": "https://localhost:8080/",
          "height": 282
        },
        "id": "EfOP6Gqsgvkg",
        "outputId": "c42b9944-a9ed-4b84-dec3-9100e8a9ec70"
      },
      "source": [
        "df_medals.boxplot(column=\"Gold\", by=None, ax=None)"
      ],
      "execution_count": 28,
      "outputs": [
        {
          "output_type": "execute_result",
          "data": {
            "text/plain": [
              "<matplotlib.axes._subplots.AxesSubplot at 0x7f0bbc43f510>"
            ]
          },
          "metadata": {},
          "execution_count": 28
        },
        {
          "output_type": "display_data",
          "data": {
            "image/png": "[encoded data removed]",
            "text/plain": [
              "<Figure size 432x288 with 1 Axes>"
            ]
          },
          "metadata": {
            "needs_background": "light"
          }
        }
      ]
    },
    {
      "cell_type": "code",
      "metadata": {
        "colab": {
          "base_uri": "https://localhost:8080/",
          "height": 355
        },
        "id": "mZN6Rn_mNiJX",
        "outputId": "e0666e28-22d0-4ecf-e5e8-335cb85853ac"
      },
      "source": [
        "frequency_table = df_medals.copy()\n",
        "frequency_table[\"freq\"] = pd.cut(df_medals[\"Gold\"], 10)\n",
        "frequency_table.groupby(\"freq\")[\"Rank\"].count().reset_index() # Creates a frequency table of values based on the specified series and segment number"
      ],
      "execution_count": 29,
      "outputs": [
        {
          "output_type": "execute_result",
          "data": {
            "text/html": [
              "<div>\n",
              "<style scoped>\n",
              "    .dataframe tbody tr th:only-of-type {\n",
              "        vertical-align: middle;\n",
              "    }\n",
              "\n",
              "    .dataframe tbody tr th {\n",
              "        vertical-align: top;\n",
              "    }\n",
              "\n",
              "    .dataframe thead th {\n",
              "        text-align: right;\n",
              "    }\n",
              "</style>\n",
              "<table border=\"1\" class=\"dataframe\">\n",
              "  <thead>\n",
              "    <tr style=\"text-align: right;\">\n",
              "      <th></th>\n",
              "      <th>freq</th>\n",
              "      <th>Rank</th>\n",
              "    </tr>\n",
              "  </thead>\n",
              "  <tbody>\n",
              "    <tr>\n",
              "      <th>0</th>\n",
              "      <td>(-0.039, 3.9]</td>\n",
              "      <td>72</td>\n",
              "    </tr>\n",
              "    <tr>\n",
              "      <th>1</th>\n",
              "      <td>(3.9, 7.8]</td>\n",
              "      <td>11</td>\n",
              "    </tr>\n",
              "    <tr>\n",
              "      <th>2</th>\n",
              "      <td>(7.8, 11.7]</td>\n",
              "      <td>4</td>\n",
              "    </tr>\n",
              "    <tr>\n",
              "      <th>3</th>\n",
              "      <td>(11.7, 15.6]</td>\n",
              "      <td>0</td>\n",
              "    </tr>\n",
              "    <tr>\n",
              "      <th>4</th>\n",
              "      <td>(15.6, 19.5]</td>\n",
              "      <td>1</td>\n",
              "    </tr>\n",
              "    <tr>\n",
              "      <th>5</th>\n",
              "      <td>(19.5, 23.4]</td>\n",
              "      <td>2</td>\n",
              "    </tr>\n",
              "    <tr>\n",
              "      <th>6</th>\n",
              "      <td>(23.4, 27.3]</td>\n",
              "      <td>1</td>\n",
              "    </tr>\n",
              "    <tr>\n",
              "      <th>7</th>\n",
              "      <td>(27.3, 31.2]</td>\n",
              "      <td>0</td>\n",
              "    </tr>\n",
              "    <tr>\n",
              "      <th>8</th>\n",
              "      <td>(31.2, 35.1]</td>\n",
              "      <td>0</td>\n",
              "    </tr>\n",
              "    <tr>\n",
              "      <th>9</th>\n",
              "      <td>(35.1, 39.0]</td>\n",
              "      <td>2</td>\n",
              "    </tr>\n",
              "  </tbody>\n",
              "</table>\n",
              "</div>"
            ],
            "text/plain": [
              "            freq  Rank\n",
              "0  (-0.039, 3.9]    72\n",
              "1     (3.9, 7.8]    11\n",
              "2    (7.8, 11.7]     4\n",
              "3   (11.7, 15.6]     0\n",
              "4   (15.6, 19.5]     1\n",
              "5   (19.5, 23.4]     2\n",
              "6   (23.4, 27.3]     1\n",
              "7   (27.3, 31.2]     0\n",
              "8   (31.2, 35.1]     0\n",
              "9   (35.1, 39.0]     2"
            ]
          },
          "metadata": {},
          "execution_count": 29
        }
      ]
    },
    {
      "cell_type": "code",
      "metadata": {
        "id": "-ZN0_a8EQCVA"
      },
      "source": [
        "import matplotlib.pyplot as plt"
      ],
      "execution_count": 31,
      "outputs": []
    },
    {
      "cell_type": "code",
      "metadata": {
        "colab": {
          "base_uri": "https://localhost:8080/",
          "height": 433
        },
        "id": "oSDf5GsDLqDi",
        "outputId": "51b21b40-e8e3-40f6-e172-9e4d5fae5207"
      },
      "source": [
        "ax = df_medals.iloc[:10, :].plot.bar(x=\"Team/NOC\", y=\"Gold\", legend=False)\n",
        "ax.set_xlabel('Gold Count')\n",
        "ax.set_ylabel('Country')\n",
        "plt.title('Golds by Nationality')"
      ],
      "execution_count": 60,
      "outputs": [
        {
          "output_type": "execute_result",
          "data": {
            "text/plain": [
              "Text(0.5, 1.0, 'Golds by Nationality')"
            ]
          },
          "metadata": {},
          "execution_count": 60
        },
        {
          "output_type": "display_data",
          "data": {
            "image/png": "[encoded data removed]",
            "text/plain": [
              "<Figure size 432x288 with 1 Axes>"
            ]
          },
          "metadata": {
            "needs_background": "light"
          }
        }
      ]
    },
    {
      "cell_type": "code",
      "metadata": {
        "colab": {
          "base_uri": "https://localhost:8080/",
          "height": 232
        },
        "id": "Z33nkYicMIWH",
        "outputId": "b1501bc0-993a-40e3-89e0-3e6b3a8fdd2c"
      },
      "source": [
        "df_medals.corr()"
      ],
      "execution_count": 61,
      "outputs": [
        {
          "output_type": "execute_result",
          "data": {
            "text/html": [
              "<div>\n",
              "<style scoped>\n",
              "    .dataframe tbody tr th:only-of-type {\n",
              "        vertical-align: middle;\n",
              "    }\n",
              "\n",
              "    .dataframe tbody tr th {\n",
              "        vertical-align: top;\n",
              "    }\n",
              "\n",
              "    .dataframe thead th {\n",
              "        text-align: right;\n",
              "    }\n",
              "</style>\n",
              "<table border=\"1\" class=\"dataframe\">\n",
              "  <thead>\n",
              "    <tr style=\"text-align: right;\">\n",
              "      <th></th>\n",
              "      <th>Rank</th>\n",
              "      <th>Gold</th>\n",
              "      <th>Silver</th>\n",
              "      <th>Bronze</th>\n",
              "      <th>Total</th>\n",
              "      <th>Rank by Total</th>\n",
              "    </tr>\n",
              "  </thead>\n",
              "  <tbody>\n",
              "    <tr>\n",
              "      <th>Rank</th>\n",
              "      <td>1.000000</td>\n",
              "      <td>-0.655477</td>\n",
              "      <td>-0.597835</td>\n",
              "      <td>-0.637166</td>\n",
              "      <td>-0.655877</td>\n",
              "      <td>0.873539</td>\n",
              "    </tr>\n",
              "    <tr>\n",
              "      <th>Gold</th>\n",
              "      <td>-0.655477</td>\n",
              "      <td>1.000000</td>\n",
              "      <td>0.929046</td>\n",
              "      <td>0.862425</td>\n",
              "      <td>0.970840</td>\n",
              "      <td>-0.626012</td>\n",
              "    </tr>\n",
              "    <tr>\n",
              "      <th>Silver</th>\n",
              "      <td>-0.597835</td>\n",
              "      <td>0.929046</td>\n",
              "      <td>1.000000</td>\n",
              "      <td>0.862646</td>\n",
              "      <td>0.969439</td>\n",
              "      <td>-0.632831</td>\n",
              "    </tr>\n",
              "    <tr>\n",
              "      <th>Bronze</th>\n",
              "      <td>-0.637166</td>\n",
              "      <td>0.862425</td>\n",
              "      <td>0.862646</td>\n",
              "      <td>1.000000</td>\n",
              "      <td>0.941941</td>\n",
              "      <td>-0.745573</td>\n",
              "    </tr>\n",
              "    <tr>\n",
              "      <th>Total</th>\n",
              "      <td>-0.655877</td>\n",
              "      <td>0.970840</td>\n",
              "      <td>0.969439</td>\n",
              "      <td>0.941941</td>\n",
              "      <td>1.000000</td>\n",
              "      <td>-0.692450</td>\n",
              "    </tr>\n",
              "    <tr>\n",
              "      <th>Rank by Total</th>\n",
              "      <td>0.873539</td>\n",
              "      <td>-0.626012</td>\n",
              "      <td>-0.632831</td>\n",
              "      <td>-0.745573</td>\n",
              "      <td>-0.692450</td>\n",
              "      <td>1.000000</td>\n",
              "    </tr>\n",
              "  </tbody>\n",
              "</table>\n",
              "</div>"
            ],
            "text/plain": [
              "                   Rank      Gold    Silver    Bronze     Total  Rank by Total\n",
              "Rank           1.000000 -0.655477 -0.597835 -0.637166 -0.655877       0.873539\n",
              "Gold          -0.655477  1.000000  0.929046  0.862425  0.970840      -0.626012\n",
              "Silver        -0.597835  0.929046  1.000000  0.862646  0.969439      -0.632831\n",
              "Bronze        -0.637166  0.862425  0.862646  1.000000  0.941941      -0.745573\n",
              "Total         -0.655877  0.970840  0.969439  0.941941  1.000000      -0.692450\n",
              "Rank by Total  0.873539 -0.626012 -0.632831 -0.745573 -0.692450       1.000000"
            ]
          },
          "metadata": {},
          "execution_count": 61
        }
      ]
    },
    {
      "cell_type": "code",
      "metadata": {
        "id": "2BynlgUZQ-xy",
        "colab": {
          "base_uri": "https://localhost:8080/",
          "height": 335
        },
        "outputId": "42243b2a-c9ae-49a3-8018-85df5a4b7b03"
      },
      "source": [
        "import seaborn as sns\n",
        "ax = sns.kdeplot(df_medals[\"Gold\"], df_medals[\"Silver\"])"
      ],
      "execution_count": 33,
      "outputs": [
        {
          "output_type": "stream",
          "name": "stderr",
          "text": [
            "/usr/local/lib/python3.7/dist-packages/seaborn/_decorators.py:43: FutureWarning: Pass the following variable as a keyword arg: y. From version 0.12, the only valid positional argument will be `data`, and passing other arguments without an explicit keyword will result in an error or misinterpretation.\n",
            "  FutureWarning\n"
          ]
        },
        {
          "output_type": "display_data",
          "data": {
            "image/png": "[encoded data removed]",
            "text/plain": [
              "<Figure size 432x288 with 1 Axes>"
            ]
          },
          "metadata": {
            "needs_background": "light"
          }
        }
      ]
    },
    {
      "cell_type": "markdown",
      "metadata": {
        "id": "CEaX8QzBuxzV"
      },
      "source": [
        "#EDA Athletes"
      ]
    },
    {
      "cell_type": "code",
      "metadata": {
        "colab": {
          "base_uri": "https://localhost:8080/"
        },
        "id": "wzEOueh8uwYd",
        "outputId": "b8279770-4c71-4535-83a6-c312a4151044"
      },
      "source": [
        "df_athletes.isna().sum()"
      ],
      "execution_count": 37,
      "outputs": [
        {
          "output_type": "execute_result",
          "data": {
            "text/plain": [
              "Name          0\n",
              "NOC           0\n",
              "Discipline    0\n",
              "dtype: int64"
            ]
          },
          "metadata": {},
          "execution_count": 37
        }
      ]
    },
    {
      "cell_type": "code",
      "metadata": {
        "colab": {
          "base_uri": "https://localhost:8080/",
          "height": 171
        },
        "id": "RvmInDW3vYx2",
        "outputId": "39da360f-b34c-4a16-93dd-4ff1f33391be"
      },
      "source": [
        "df_athletes.describe()"
      ],
      "execution_count": 38,
      "outputs": [
        {
          "output_type": "execute_result",
          "data": {
            "text/html": [
              "<div>\n",
              "<style scoped>\n",
              "    .dataframe tbody tr th:only-of-type {\n",
              "        vertical-align: middle;\n",
              "    }\n",
              "\n",
              "    .dataframe tbody tr th {\n",
              "        vertical-align: top;\n",
              "    }\n",
              "\n",
              "    .dataframe thead th {\n",
              "        text-align: right;\n",
              "    }\n",
              "</style>\n",
              "<table border=\"1\" class=\"dataframe\">\n",
              "  <thead>\n",
              "    <tr style=\"text-align: right;\">\n",
              "      <th></th>\n",
              "      <th>Name</th>\n",
              "      <th>NOC</th>\n",
              "      <th>Discipline</th>\n",
              "    </tr>\n",
              "  </thead>\n",
              "  <tbody>\n",
              "    <tr>\n",
              "      <th>count</th>\n",
              "      <td>11085</td>\n",
              "      <td>11085</td>\n",
              "      <td>11085</td>\n",
              "    </tr>\n",
              "    <tr>\n",
              "      <th>unique</th>\n",
              "      <td>11062</td>\n",
              "      <td>206</td>\n",
              "      <td>46</td>\n",
              "    </tr>\n",
              "    <tr>\n",
              "      <th>top</th>\n",
              "      <td>PEREZ Maria</td>\n",
              "      <td>United States of America</td>\n",
              "      <td>Athletics</td>\n",
              "    </tr>\n",
              "    <tr>\n",
              "      <th>freq</th>\n",
              "      <td>2</td>\n",
              "      <td>615</td>\n",
              "      <td>2068</td>\n",
              "    </tr>\n",
              "  </tbody>\n",
              "</table>\n",
              "</div>"
            ],
            "text/plain": [
              "               Name                       NOC Discipline\n",
              "count         11085                     11085      11085\n",
              "unique        11062                       206         46\n",
              "top     PEREZ Maria  United States of America  Athletics\n",
              "freq              2                       615       2068"
            ]
          },
          "metadata": {},
          "execution_count": 38
        }
      ]
    },
    {
      "cell_type": "code",
      "metadata": {
        "colab": {
          "base_uri": "https://localhost:8080/"
        },
        "id": "qbsR7HDhx4oO",
        "outputId": "8f47841f-091e-43ea-ca42-4253d9c0d755"
      },
      "source": [
        "df_athletes.duplicated().sum()"
      ],
      "execution_count": 39,
      "outputs": [
        {
          "output_type": "execute_result",
          "data": {
            "text/plain": [
              "1"
            ]
          },
          "metadata": {},
          "execution_count": 39
        }
      ]
    },
    {
      "cell_type": "markdown",
      "metadata": {
        "id": "2yUqx8ix0J9i"
      },
      "source": [
        "Notes :\n",
        "*   If there are any duplicate data, it would be wise if we remove it\n",
        "*   don't forget to used reset.index to update the data frame\n",
        "\n"
      ]
    },
    {
      "cell_type": "code",
      "metadata": {
        "id": "AB3gPo6hyQv7"
      },
      "source": [
        "df_athletes = df_athletes.drop_duplicates().reset_index(drop=True)"
      ],
      "execution_count": 40,
      "outputs": []
    },
    {
      "cell_type": "code",
      "metadata": {
        "colab": {
          "base_uri": "https://localhost:8080/",
          "height": 414
        },
        "id": "v4ZddXPpyaRk",
        "outputId": "c3723476-48db-4cc4-dc4b-1331b050895d"
      },
      "source": [
        "df_athletes "
      ],
      "execution_count": 41,
      "outputs": [
        {
          "output_type": "execute_result",
          "data": {
            "text/html": [
              "<div>\n",
              "<style scoped>\n",
              "    .dataframe tbody tr th:only-of-type {\n",
              "        vertical-align: middle;\n",
              "    }\n",
              "\n",
              "    .dataframe tbody tr th {\n",
              "        vertical-align: top;\n",
              "    }\n",
              "\n",
              "    .dataframe thead th {\n",
              "        text-align: right;\n",
              "    }\n",
              "</style>\n",
              "<table border=\"1\" class=\"dataframe\">\n",
              "  <thead>\n",
              "    <tr style=\"text-align: right;\">\n",
              "      <th></th>\n",
              "      <th>Name</th>\n",
              "      <th>NOC</th>\n",
              "      <th>Discipline</th>\n",
              "    </tr>\n",
              "  </thead>\n",
              "  <tbody>\n",
              "    <tr>\n",
              "      <th>0</th>\n",
              "      <td>AALERUD Katrine</td>\n",
              "      <td>Norway</td>\n",
              "      <td>Cycling Road</td>\n",
              "    </tr>\n",
              "    <tr>\n",
              "      <th>1</th>\n",
              "      <td>ABAD Nestor</td>\n",
              "      <td>Spain</td>\n",
              "      <td>Artistic Gymnastics</td>\n",
              "    </tr>\n",
              "    <tr>\n",
              "      <th>2</th>\n",
              "      <td>ABAGNALE Giovanni</td>\n",
              "      <td>Italy</td>\n",
              "      <td>Rowing</td>\n",
              "    </tr>\n",
              "    <tr>\n",
              "      <th>3</th>\n",
              "      <td>ABALDE Alberto</td>\n",
              "      <td>Spain</td>\n",
              "      <td>Basketball</td>\n",
              "    </tr>\n",
              "    <tr>\n",
              "      <th>4</th>\n",
              "      <td>ABALDE Tamara</td>\n",
              "      <td>Spain</td>\n",
              "      <td>Basketball</td>\n",
              "    </tr>\n",
              "    <tr>\n",
              "      <th>...</th>\n",
              "      <td>...</td>\n",
              "      <td>...</td>\n",
              "      <td>...</td>\n",
              "    </tr>\n",
              "    <tr>\n",
              "      <th>11079</th>\n",
              "      <td>ZWICKER Martin Detlef</td>\n",
              "      <td>Germany</td>\n",
              "      <td>Hockey</td>\n",
              "    </tr>\n",
              "    <tr>\n",
              "      <th>11080</th>\n",
              "      <td>ZWOLINSKA Klaudia</td>\n",
              "      <td>Poland</td>\n",
              "      <td>Canoe Slalom</td>\n",
              "    </tr>\n",
              "    <tr>\n",
              "      <th>11081</th>\n",
              "      <td>ZYKOVA Yulia</td>\n",
              "      <td>ROC</td>\n",
              "      <td>Shooting</td>\n",
              "    </tr>\n",
              "    <tr>\n",
              "      <th>11082</th>\n",
              "      <td>ZYUZINA Ekaterina</td>\n",
              "      <td>ROC</td>\n",
              "      <td>Sailing</td>\n",
              "    </tr>\n",
              "    <tr>\n",
              "      <th>11083</th>\n",
              "      <td>ZYZANSKA Sylwia</td>\n",
              "      <td>Poland</td>\n",
              "      <td>Archery</td>\n",
              "    </tr>\n",
              "  </tbody>\n",
              "</table>\n",
              "<p>11084 rows × 3 columns</p>\n",
              "</div>"
            ],
            "text/plain": [
              "                        Name      NOC           Discipline\n",
              "0            AALERUD Katrine   Norway         Cycling Road\n",
              "1                ABAD Nestor    Spain  Artistic Gymnastics\n",
              "2          ABAGNALE Giovanni    Italy               Rowing\n",
              "3             ABALDE Alberto    Spain           Basketball\n",
              "4              ABALDE Tamara    Spain           Basketball\n",
              "...                      ...      ...                  ...\n",
              "11079  ZWICKER Martin Detlef  Germany               Hockey\n",
              "11080      ZWOLINSKA Klaudia   Poland         Canoe Slalom\n",
              "11081           ZYKOVA Yulia      ROC             Shooting\n",
              "11082      ZYUZINA Ekaterina      ROC              Sailing\n",
              "11083        ZYZANSKA Sylwia   Poland              Archery\n",
              "\n",
              "[11084 rows x 3 columns]"
            ]
          },
          "metadata": {},
          "execution_count": 41
        }
      ]
    },
    {
      "cell_type": "code",
      "metadata": {
        "colab": {
          "base_uri": "https://localhost:8080/",
          "height": 687
        },
        "id": "dILZYcjpyVkd",
        "outputId": "e78aca11-07c9-41ce-9195-e33fc089902a"
      },
      "source": [
        "plt.figure(figsize=(15,8))\n",
        "ax = sns.countplot('NOC',\n",
        "                   data = df_athletes,\n",
        "                   order=df_athletes.NOC.value_counts(ascending=False).iloc[:10].index,\n",
        "                   palette=\"Oranges_r\")\n",
        "plt.xticks(rotation=90)\n",
        "plt.ylabel('Total Athletes')\n",
        "plt.title('Athletes by Nationality')\n",
        "plt.show()"
      ],
      "execution_count": 52,
      "outputs": [
        {
          "output_type": "stream",
          "name": "stderr",
          "text": [
            "/usr/local/lib/python3.7/dist-packages/seaborn/_decorators.py:43: FutureWarning: Pass the following variable as a keyword arg: x. From version 0.12, the only valid positional argument will be `data`, and passing other arguments without an explicit keyword will result in an error or misinterpretation.\n",
            "  FutureWarning\n"
          ]
        },
        {
          "output_type": "display_data",
          "data": {
            "image/png": "[encoded data removed]",
            "text/plain": [
              "<Figure size 1080x576 with 1 Axes>"
            ]
          },
          "metadata": {
            "needs_background": "light"
          }
        }
      ]
    },
    {
      "cell_type": "code",
      "metadata": {
        "colab": {
          "base_uri": "https://localhost:8080/",
          "height": 627
        },
        "id": "p7V5GzvZMdsO",
        "outputId": "671789da-2ce6-48d0-a025-59c8a60a0325"
      },
      "source": [
        "plt.figure(figsize=(15,8))\n",
        "ax = sns.countplot('Discipline',\n",
        "                   data = df_athletes,\n",
        "                   order=df_athletes.Discipline.value_counts(ascending=False).iloc[:10].index,\n",
        "                   palette=\"flare_r\")\n",
        "plt.xticks(rotation=90)\n",
        "plt.ylabel('Total Athletes')\n",
        "plt.title('Total Athletes based on Sport Categories')\n",
        "plt.show()"
      ],
      "execution_count": 70,
      "outputs": [
        {
          "output_type": "stream",
          "name": "stderr",
          "text": [
            "/usr/local/lib/python3.7/dist-packages/seaborn/_decorators.py:43: FutureWarning: Pass the following variable as a keyword arg: x. From version 0.12, the only valid positional argument will be `data`, and passing other arguments without an explicit keyword will result in an error or misinterpretation.\n",
            "  FutureWarning\n"
          ]
        },
        {
          "output_type": "display_data",
          "data": {
            "image/png": "[encoded data removed]",
            "text/plain": [
              "<Figure size 1080x576 with 1 Axes>"
            ]
          },
          "metadata": {
            "needs_background": "light"
          }
        }
      ]
    }
  ]
}